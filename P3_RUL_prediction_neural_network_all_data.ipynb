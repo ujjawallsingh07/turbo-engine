{
 "cells": [
  {
   "cell_type": "markdown",
   "metadata": {},
   "source": [
    "references:\n",
    "https://www.kaggle.com/code/vinayak123tyagi/damage-propagation-modeling-for-aircraft-engine"
   ]
  },
  {
   "cell_type": "code",
   "execution_count": 1,
   "metadata": {},
   "outputs": [],
   "source": [
    "import pandas as pd\n",
    "import numpy as np\n",
    "import matplotlib.pyplot as plt\n",
    "import seaborn as sns\n",
    "import pickle\n",
    "from sklearn.model_selection import train_test_split\n",
    "from sklearn.ensemble import RandomForestRegressor\n",
    "from sklearn.metrics import mean_squared_error"
   ]
  },
  {
   "cell_type": "code",
   "execution_count": 21,
   "metadata": {},
   "outputs": [
    {
     "name": "stdout",
     "output_type": "stream",
     "text": [
      "Processed train_FD001.txt, number of rows: 20631\n",
      "Processed train_FD002.txt, number of rows: 53759\n",
      "Processed train_FD003.txt, number of rows: 24720\n",
      "Processed train_FD004.txt, number of rows: 61249\n"
     ]
    }
   ],
   "source": [
    "columns = ['unit_number','time_in_cycles','setting_1','setting_2','TRA','T2','T24','T30','T50','P2','P15','P30','Nf',\n",
    "           'Nc','epr','Ps30','phi','NRf','NRc','BPR','farB','htBleed','Nf_dmd','PCNfR_dmd','W31','W32' ]\n",
    "\n",
    "train_data_processed = []\n",
    "for idx in range(1, 5):\n",
    "    train_data = pd.read_csv(rf\"C:\\Users\\User\\Desktop\\CMAPS_turbo_engine_RUL\\CMAPSSData\\train_FD00{idx}.txt\",sep=\" \",header=None)\n",
    "    train_data.drop(columns=[26,27],inplace=True)\n",
    "\n",
    "    train_data.columns = columns\n",
    "    train_data.drop(columns=['Nf_dmd','PCNfR_dmd','P2','T2','TRA','farB','epr'],inplace=True)\n",
    "    train_data['RUL'] =  train_data['time_in_cycles'] / train_data.groupby('unit_number')['time_in_cycles'].transform('max') \n",
    "\n",
    "    train_data.drop(columns=['unit_number', 'setting_1', 'setting_2'],inplace=True)\n",
    "\n",
    "    train_data_processed.append(train_data)\n",
    "    print(f\"Processed train_FD00{idx}.txt, number of rows: {train_data.shape[0]}\")\n",
    "train_data_processed = pd.concat(train_data_processed, ignore_index=True)"
   ]
  },
  {
   "cell_type": "code",
   "execution_count": 23,
   "metadata": {},
   "outputs": [
    {
     "name": "stdout",
     "output_type": "stream",
     "text": [
      "Processed test_FD001.txt, number of rows: 13096\n",
      "Processed test_FD002.txt, number of rows: 33991\n",
      "Processed test_FD003.txt, number of rows: 16596\n",
      "Processed test_FD004.txt, number of rows: 41214\n"
     ]
    }
   ],
   "source": [
    "test_data_processed = []\n",
    "\n",
    "for idx in range(1,5):\n",
    "\n",
    "    test_data_rul = pd.read_csv(rf\"C:\\Users\\User\\Desktop\\CMAPS_turbo_engine_RUL\\CMAPSSData\\RUL_FD00{idx}.txt\",sep=\" \",header=None)\n",
    "    test_data = pd.read_csv(rf\"C:\\Users\\User\\Desktop\\CMAPS_turbo_engine_RUL\\CMAPSSData\\test_FD00{idx}.txt\",sep=\" \",header=None)\n",
    "\n",
    "\n",
    "    test_data.drop(columns=[26,27],inplace=True)\n",
    "    columns = ['unit_number','time_in_cycles','setting_1','setting_2','TRA','T2','T24','T30','T50','P2','P15','P30','Nf',\n",
    "            'Nc','epr','Ps30','phi','NRf','NRc','BPR','farB','htBleed','Nf_dmd','PCNfR_dmd','W31','W32' ]\n",
    "\n",
    "    test_data.columns = columns\n",
    "    test_data.drop(columns=['Nf_dmd','PCNfR_dmd','P2','T2','TRA','farB','epr'],inplace=True)\n",
    "\n",
    "    eol = []\n",
    "    for un in test_data['unit_number'].unique():\n",
    "        temp_data = test_data[test_data['unit_number'] == un]\n",
    "        eol_temp = test_data_rul.iloc[un-1].values[0]\n",
    "        eol_temp_list = [eol_temp for i in range(len(temp_data))]\n",
    "\n",
    "        eol.extend(eol_temp_list)\n",
    "\n",
    "\n",
    "    test_data['RUL'] = test_data['time_in_cycles'].values / (test_data.groupby('unit_number')['time_in_cycles'].transform('max').values + eol)  \n",
    "    test_data.drop(columns=['unit_number', 'setting_1', 'setting_2'],inplace=True)\n",
    "\n",
    "    test_data_processed.append(test_data)\n",
    "\n",
    "    print(f\"Processed test_FD00{idx}.txt, number of rows: {test_data.shape[0]}\")\n",
    "test_data_processed = pd.concat(test_data_processed, ignore_index=True)\n"
   ]
  },
  {
   "cell_type": "code",
   "execution_count": 25,
   "metadata": {},
   "outputs": [],
   "source": [
    "import torch\n",
    "import torch.nn as nn\n",
    "import torch.optim as optim\n",
    "from torch.utils.data import Dataset, DataLoader\n",
    "# Set device\n",
    "device = torch.device(\"cuda\" if torch.cuda.is_available() else \"cpu\")"
   ]
  },
  {
   "cell_type": "code",
   "execution_count": null,
   "metadata": {},
   "outputs": [],
   "source": [
    "# 1. Dataset class\n",
    "class RULDataset(Dataset):\n",
    "    def __init__(self, dataframe):\n",
    "        self.X = dataframe.drop(columns=[\"RUL\"]).values.astype(np.float32)\n",
    "        self.y = dataframe[\"RUL\"].values.astype(np.float32).reshape(-1, 1)\n",
    "\n",
    "    def __len__(self):\n",
    "        return len(self.X)\n",
    "\n",
    "    def __getitem__(self, idx):\n",
    "        return torch.tensor(self.X[idx]), torch.tensor(self.y[idx])\n",
    "\n",
    "# 2. Neural Network model\n",
    "class RULModel(nn.Module):\n",
    "    def __init__(self, input_dim):\n",
    "        super(RULModel, self).__init__()\n",
    "        self.model = nn.Sequential(\n",
    "            nn.Linear(input_dim, 256),\n",
    "            nn.LeakyReLU(),\n",
    "\n",
    "            nn.Linear(256, 256),\n",
    "            nn.LeakyReLU(),\n",
    "\n",
    "            nn.Linear(256, 256),\n",
    "            nn.LeakyReLU(),\n",
    "\n",
    "            nn.Linear(256, 1)\n",
    "        )\n",
    "\n",
    "    def forward(self, x):\n",
    "        return self.model(x)\n",
    "\n"
   ]
  },
  {
   "cell_type": "code",
   "execution_count": 27,
   "metadata": {},
   "outputs": [
    {
     "name": "stderr",
     "output_type": "stream",
     "text": [
      "C:\\Users\\User\\AppData\\Local\\Temp\\ipykernel_6220\\1275619669.py:6: FutureWarning: Setting an item of incompatible dtype is deprecated and will raise in a future error of pandas. Value '[-1.46438155 -1.45241094 -1.44044032 ...  1.55221385  1.56418447\n",
      "  1.57615508]' has dtype incompatible with int64, please explicitly cast to a compatible dtype first.\n",
      "  train_data_processed.loc[:, features.columns] = scaled_features\n",
      "C:\\Users\\User\\AppData\\Local\\Temp\\ipykernel_6220\\1275619669.py:6: FutureWarning: Setting an item of incompatible dtype is deprecated and will raise in a future error of pandas. Value '[ 1.00902172  1.00902172  0.94454996 ...  1.10572936 -0.76395171\n",
      " -0.89289524]' has dtype incompatible with int64, please explicitly cast to a compatible dtype first.\n",
      "  train_data_processed.loc[:, features.columns] = scaled_features\n",
      "C:\\Users\\User\\AppData\\Local\\Temp\\ipykernel_6220\\1275619669.py:11: FutureWarning: Setting an item of incompatible dtype is deprecated and will raise in a future error of pandas. Value '[-1.46438155 -1.45241094 -1.44044032 ...  1.86344988  1.8754205\n",
      "  1.88739112]' has dtype incompatible with int64, please explicitly cast to a compatible dtype first.\n",
      "  test_data_processed.loc[:, test_features.columns] = test_scaled_features\n",
      "C:\\Users\\User\\AppData\\Local\\Temp\\ipykernel_6220\\1275619669.py:11: FutureWarning: Setting an item of incompatible dtype is deprecated and will raise in a future error of pandas. Value '[ 1.00902172  1.0412576   1.0412576  ... -0.79618759  0.17088882\n",
      " -0.82842348]' has dtype incompatible with int64, please explicitly cast to a compatible dtype first.\n",
      "  test_data_processed.loc[:, test_features.columns] = test_scaled_features\n"
     ]
    }
   ],
   "source": [
    "# Normalize the features\n",
    "from sklearn.preprocessing import StandardScaler\n",
    "scaler = StandardScaler()\n",
    "features = train_data_processed.drop(columns=['RUL'])\n",
    "scaled_features = scaler.fit_transform(features)\n",
    "train_data_processed.loc[:, features.columns] = scaled_features\n",
    "\n",
    "# Normalize test data using the same scaler\n",
    "test_features = test_data_processed.drop(columns=['RUL'])\n",
    "test_scaled_features = scaler.transform(test_features)\n",
    "test_data_processed.loc[:, test_features.columns] = test_scaled_features"
   ]
  },
  {
   "cell_type": "code",
   "execution_count": null,
   "metadata": {},
   "outputs": [],
   "source": [
    "# 4. Dataset & Dataloader\n",
    "dataset = RULDataset(train_data_processed)\n",
    "dataloader = DataLoader(dataset, batch_size=32, shuffle=True)\n",
    "\n",
    "# Create TEST Dataset and DataLoader\n",
    "test_dataset = RULDataset(test_data_processed)\n",
    "test_loader = DataLoader(test_dataset, batch_size=32, shuffle=False)\n",
    "\n",
    "# 5. Training Setup\n",
    "input_dim = train_data_processed.shape[1] - 1  # Exclude RUL\n",
    "model = RULModel(input_dim).to(device)\n",
    "\n",
    "# ###########################################################Load the model if it exists\n",
    "# model.load_state_dict(torch.load(\"rul_ann_model.pth\"))\n",
    "# model.to(device)\n",
    "# model.eval()\n",
    "# ##########################################################\n",
    "\n",
    "criterion = nn.MSELoss()\n",
    "optimizer = optim.AdamW(model.parameters(), lr=1e-4)\n",
    "\n",
    "def evaluate_model(model, test_loader):\n",
    "    # 3. Run inference\n",
    "    model.eval()\n",
    "    all_preds = []\n",
    "    all_targets = []\n",
    "\n",
    "    with torch.no_grad():\n",
    "        for X_batch, y_batch in test_loader:\n",
    "            X_batch = X_batch.to(device)\n",
    "            outputs = model(X_batch)\n",
    "            all_preds.append(outputs.cpu().numpy())\n",
    "            all_targets.append(y_batch.numpy())\n",
    "\n",
    "    # 4. Calculate MSE\n",
    "    preds = np.vstack(all_preds)\n",
    "    targets = np.vstack(all_targets)\n",
    "    mse = mean_squared_error(targets, preds)\n",
    "    return mse"
   ]
  },
  {
   "cell_type": "code",
   "execution_count": null,
   "metadata": {},
   "outputs": [
    {
     "name": "stdout",
     "output_type": "stream",
     "text": [
      "Epoch [1/20], Loss: 0.0063, Test MSE: 0.0059\n",
      "Epoch [2/20], Loss: 0.0062, Test MSE: 0.0074\n",
      "Epoch [3/20], Loss: 0.0061, Test MSE: 0.0079\n",
      "Epoch [4/20], Loss: 0.0061, Test MSE: 0.0059\n",
      "Epoch [5/20], Loss: 0.0061, Test MSE: 0.0052\n",
      "Epoch [6/20], Loss: 0.0060, Test MSE: 0.0057\n",
      "Epoch [7/20], Loss: 0.0060, Test MSE: 0.0051\n",
      "Epoch [8/20], Loss: 0.0060, Test MSE: 0.0053\n",
      "Epoch [9/20], Loss: 0.0059, Test MSE: 0.0067\n",
      "Epoch [10/20], Loss: 0.0059, Test MSE: 0.0058\n",
      "Epoch [11/20], Loss: 0.0059, Test MSE: 0.0054\n",
      "Epoch [12/20], Loss: 0.0059, Test MSE: 0.0054\n",
      "Epoch [13/20], Loss: 0.0058, Test MSE: 0.0051\n",
      "Epoch [14/20], Loss: 0.0058, Test MSE: 0.0069\n",
      "Epoch [15/20], Loss: 0.0057, Test MSE: 0.0054\n",
      "Epoch [16/20], Loss: 0.0057, Test MSE: 0.0059\n",
      "Epoch [17/20], Loss: 0.0057, Test MSE: 0.0059\n",
      "Epoch [18/20], Loss: 0.0057, Test MSE: 0.0051\n",
      "Epoch [19/20], Loss: 0.0057, Test MSE: 0.0059\n",
      "Epoch [20/20], Loss: 0.0057, Test MSE: 0.0053\n"
     ]
    }
   ],
   "source": [
    "# 6. Training Loop\n",
    "best_mse = float(\"inf\")\n",
    "epochs = 20\n",
    "for epoch in range(epochs):\n",
    "    model.train()\n",
    "    running_loss = 0.0\n",
    "    for X_batch, y_batch in dataloader:\n",
    "        X_batch, y_batch = X_batch.to(device), y_batch.to(device)\n",
    "\n",
    "        # Forward pass\n",
    "\n",
    "        optimizer.zero_grad()\n",
    "        outputs = model(X_batch)\n",
    "        loss = criterion(outputs, y_batch)\n",
    "        loss.backward()\n",
    "        optimizer.step()\n",
    "\n",
    "        running_loss += loss.item()\n",
    "\n",
    "    val_mse = evaluate_model(model, test_loader)\n",
    "    if val_mse < best_mse:\n",
    "        best_mse = val_mse\n",
    "        torch.save(model.state_dict(), \"rul_ann_model.pth\")\n",
    "\n",
    "    print(f\"Epoch [{epoch+1}/{epochs}], Loss: {running_loss/len(dataloader):.4f}, Test MSE: {val_mse:.4f}\")"
   ]
  },
  {
   "cell_type": "markdown",
   "metadata": {},
   "source": [
    "# Visualize Test Results"
   ]
  },
  {
   "cell_type": "code",
   "execution_count": 30,
   "metadata": {},
   "outputs": [],
   "source": [
    "\n",
    "idx=1\n",
    "\n",
    "test_data_rul = pd.read_csv(rf\"C:\\Users\\User\\Desktop\\CMAPS_turbo_engine_RUL\\CMAPSSData\\RUL_FD00{idx}.txt\",sep=\" \",header=None)\n",
    "test_data = pd.read_csv(rf\"C:\\Users\\User\\Desktop\\CMAPS_turbo_engine_RUL\\CMAPSSData\\test_FD00{idx}.txt\",sep=\" \",header=None)\n",
    "\n",
    "\n",
    "test_data.drop(columns=[26,27],inplace=True)\n",
    "columns = ['unit_number','time_in_cycles','setting_1','setting_2','TRA','T2','T24','T30','T50','P2','P15','P30','Nf',\n",
    "        'Nc','epr','Ps30','phi','NRf','NRc','BPR','farB','htBleed','Nf_dmd','PCNfR_dmd','W31','W32' ]\n",
    "\n",
    "test_data.columns = columns\n",
    "test_data.drop(columns=['Nf_dmd','PCNfR_dmd','P2','T2','TRA','farB','epr'],inplace=True)\n",
    "\n",
    "eol = []\n",
    "for un in test_data['unit_number'].unique():\n",
    "    temp_data = test_data[test_data['unit_number'] == un]\n",
    "    eol_temp = test_data_rul.iloc[un-1].values[0]\n",
    "    eol_temp_list = [eol_temp for i in range(len(temp_data))]\n",
    "\n",
    "    eol.extend(eol_temp_list)\n",
    "\n",
    "\n",
    "test_data['RUL'] = test_data['time_in_cycles'].values / (test_data.groupby('unit_number')['time_in_cycles'].transform('max').values + eol) \n",
    "# test_data.drop(columns=['unit_number', 'setting_1', 'setting_2'],inplace=True)\n",
    "\n",
    "\n"
   ]
  },
  {
   "cell_type": "code",
   "execution_count": 42,
   "metadata": {},
   "outputs": [
    {
     "data": {
      "image/png": "[encoded data removed]",
      "text/plain": [
       "<Figure size 800x500 with 1 Axes>"
      ]
     },
     "metadata": {},
     "output_type": "display_data"
    }
   ],
   "source": [
    "unit_id = 9  # Example unit number\n",
    "unit_data = test_data[test_data['unit_number'] == unit_id]\n",
    "true_rul = unit_data['RUL'].values\n",
    "\n",
    "\n",
    "X_batch = scaler.transform(unit_data.drop(columns=['unit_number','setting_1','setting_2','RUL']))\n",
    "X_batch = torch.tensor(X_batch).float().to(device)\n",
    "model.eval()\n",
    "with torch.no_grad():\n",
    "    pred_rul = model(X_batch).cpu().numpy().flatten()\n",
    "\n",
    "plt.figure(figsize=(8, 5))\n",
    "plt.plot(unit_data['time_in_cycles'], 1-true_rul, label='True RUL', marker='o')\n",
    "plt.plot(unit_data['time_in_cycles'], 1-pred_rul, label='Predicted RUL', marker='s')\n",
    "plt.xlabel('Time in Cycles')\n",
    "plt.ylabel('Remaining Useful Life (RUL)')\n",
    "plt.title(f'Predicted vs True RUL for Unit {unit_id}')\n",
    "plt.legend()\n",
    "plt.show()"
   ]
  }
 ],
 "metadata": {
  "kernelspec": {
   "display_name": "torch_env",
   "language": "python",
   "name": "python3"
  },
  "language_info": {
   "codemirror_mode": {
    "name": "ipython",
    "version": 3
   },
   "file_extension": ".py",
   "mimetype": "text/x-python",
   "name": "python",
   "nbconvert_exporter": "python",
   "pygments_lexer": "ipython3",
   "version": "3.11.10"
  }
 },
 "nbformat": 4,
 "nbformat_minor": 2
}
